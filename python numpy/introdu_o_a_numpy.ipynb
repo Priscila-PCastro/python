{
  "nbformat": 4,
  "nbformat_minor": 0,
  "metadata": {
    "colab": {
      "provenance": []
    },
    "kernelspec": {
      "name": "python3",
      "display_name": "Python 3"
    },
    "language_info": {
      "name": "python"
    }
  },
  "cells": [
    {
      "cell_type": "code",
      "source": [
        "import numpy as np"
      ],
      "metadata": {
        "id": "qNtAbZxk064c"
      },
      "execution_count": null,
      "outputs": []
    },
    {
      "cell_type": "code",
      "source": [
        "l = [ 1, 2, 3, 4 ]"
      ],
      "metadata": {
        "id": "8bUb6rNi4FN1"
      },
      "execution_count": null,
      "outputs": []
    },
    {
      "cell_type": "code",
      "source": [
        "arr1 = np.array(l)"
      ],
      "metadata": {
        "id": "2xAKKx-O9PiW"
      },
      "execution_count": null,
      "outputs": []
    },
    {
      "cell_type": "code",
      "source": [
        "arr1"
      ],
      "metadata": {
        "colab": {
          "base_uri": "https://localhost:8080/"
        },
        "id": "ckpA8IEO9ikK",
        "outputId": "f080e89f-42d1-467e-e4c8-7ffa2d2d6fc1"
      },
      "execution_count": null,
      "outputs": [
        {
          "output_type": "execute_result",
          "data": {
            "text/plain": [
              "array([1, 2, 3, 4])"
            ]
          },
          "metadata": {},
          "execution_count": 11
        }
      ]
    },
    {
      "cell_type": "code",
      "source": [
        "np.zeros((3 , 2))"
      ],
      "metadata": {
        "colab": {
          "base_uri": "https://localhost:8080/"
        },
        "id": "JouHLugc9qz9",
        "outputId": "03057b3f-50be-4761-c507-a4ca62f31036"
      },
      "execution_count": null,
      "outputs": [
        {
          "output_type": "execute_result",
          "data": {
            "text/plain": [
              "array([[0., 0.],\n",
              "       [0., 0.],\n",
              "       [0., 0.]])"
            ]
          },
          "metadata": {},
          "execution_count": 13
        }
      ]
    },
    {
      "cell_type": "code",
      "source": [
        "list(range(0, 3))"
      ],
      "metadata": {
        "colab": {
          "base_uri": "https://localhost:8080/"
        },
        "id": "e8gyRcrB-O_t",
        "outputId": "e7e2d45c-36b4-460e-c1d1-fede01b5549f"
      },
      "execution_count": null,
      "outputs": [
        {
          "output_type": "execute_result",
          "data": {
            "text/plain": [
              "[0, 1, 2]"
            ]
          },
          "metadata": {},
          "execution_count": 15
        }
      ]
    },
    {
      "cell_type": "code",
      "source": [
        "arr_range = np.arange(1, 11)\n",
        "arr_range"
      ],
      "metadata": {
        "colab": {
          "base_uri": "https://localhost:8080/"
        },
        "id": "CtPtNjZJ-1dy",
        "outputId": "e314526d-23e2-42cb-b099-7e89d7ba1801"
      },
      "execution_count": null,
      "outputs": [
        {
          "output_type": "execute_result",
          "data": {
            "text/plain": [
              "array([ 1,  2,  3,  4,  5,  6,  7,  8,  9, 10])"
            ]
          },
          "metadata": {},
          "execution_count": 18
        }
      ]
    },
    {
      "cell_type": "code",
      "source": [
        "type(arr_range)"
      ],
      "metadata": {
        "colab": {
          "base_uri": "https://localhost:8080/"
        },
        "id": "c4WyjPo2_QOY",
        "outputId": "2b4fa8fa-d8cb-4e9e-cf59-f46598ce666e"
      },
      "execution_count": null,
      "outputs": [
        {
          "output_type": "execute_result",
          "data": {
            "text/plain": [
              "numpy.ndarray"
            ]
          },
          "metadata": {},
          "execution_count": 19
        }
      ]
    },
    {
      "cell_type": "code",
      "source": [
        "np.random.random((3 , 3))"
      ],
      "metadata": {
        "colab": {
          "base_uri": "https://localhost:8080/"
        },
        "id": "P4tC3SrK_6G_",
        "outputId": "cc1e9914-84bf-4f8a-fc1d-47ff71649597"
      },
      "execution_count": null,
      "outputs": [
        {
          "output_type": "execute_result",
          "data": {
            "text/plain": [
              "array([[0.20899023, 0.04844134, 0.42154863],\n",
              "       [0.00313699, 0.5531135 , 0.55275627],\n",
              "       [0.82217593, 0.64271798, 0.66696301]])"
            ]
          },
          "metadata": {},
          "execution_count": 20
        }
      ]
    },
    {
      "cell_type": "code",
      "source": [],
      "metadata": {
        "id": "V5kE06YrAIH4"
      },
      "execution_count": null,
      "outputs": []
    },
    {
      "cell_type": "markdown",
      "source": [
        "1- Crie um array com 4 linhas e 3 colunas com valores aleatórios"
      ],
      "metadata": {
        "id": "7Lg8HqhAB2_r"
      }
    },
    {
      "cell_type": "code",
      "source": [
        "np.random.random((4, 3))"
      ],
      "metadata": {
        "colab": {
          "base_uri": "https://localhost:8080/"
        },
        "id": "tV0L4FbgCFwi",
        "outputId": "a65ad6de-3994-4531-db06-b5153165fd1e"
      },
      "execution_count": null,
      "outputs": [
        {
          "output_type": "execute_result",
          "data": {
            "text/plain": [
              "array([[0.33872599, 0.74482308, 0.240005  ],\n",
              "       [0.87403064, 0.95348588, 0.10147425],\n",
              "       [0.69297846, 0.20112604, 0.85369311],\n",
              "       [0.9004852 , 0.0203254 , 0.08501685]])"
            ]
          },
          "metadata": {},
          "execution_count": 21
        }
      ]
    },
    {
      "cell_type": "code",
      "source": [
        "np.random"
      ],
      "metadata": {
        "colab": {
          "base_uri": "https://localhost:8080/"
        },
        "id": "gJDWpvT8CPf1",
        "outputId": "5b2849ba-b9ef-455f-8f02-1a87f741e90e"
      },
      "execution_count": null,
      "outputs": [
        {
          "output_type": "execute_result",
          "data": {
            "text/plain": [
              "<module 'numpy.random' from '/usr/local/lib/python3.10/dist-packages/numpy/random/__init__.py'>"
            ]
          },
          "metadata": {},
          "execution_count": 23
        }
      ]
    },
    {
      "cell_type": "markdown",
      "source": [
        "2- Crie um arry com 5 colunas e 10 linhas iniciados com zero"
      ],
      "metadata": {
        "id": "Ul2mJOsECYXw"
      }
    },
    {
      "cell_type": "code",
      "source": [
        "np.zeros((10 , 5))"
      ],
      "metadata": {
        "colab": {
          "base_uri": "https://localhost:8080/"
        },
        "id": "ri3YELr7Cmwe",
        "outputId": "a89dc489-f79e-4fb3-ad4e-c555eb1030c8"
      },
      "execution_count": null,
      "outputs": [
        {
          "output_type": "execute_result",
          "data": {
            "text/plain": [
              "array([[0., 0., 0., 0., 0.],\n",
              "       [0., 0., 0., 0., 0.],\n",
              "       [0., 0., 0., 0., 0.],\n",
              "       [0., 0., 0., 0., 0.],\n",
              "       [0., 0., 0., 0., 0.],\n",
              "       [0., 0., 0., 0., 0.],\n",
              "       [0., 0., 0., 0., 0.],\n",
              "       [0., 0., 0., 0., 0.],\n",
              "       [0., 0., 0., 0., 0.],\n",
              "       [0., 0., 0., 0., 0.]])"
            ]
          },
          "metadata": {},
          "execution_count": 22
        }
      ]
    },
    {
      "cell_type": "code",
      "source": [],
      "metadata": {
        "id": "NHr1NpRgCzAg"
      },
      "execution_count": null,
      "outputs": []
    },
    {
      "cell_type": "markdown",
      "source": [
        "Crie um array com valores inteiros 3 linhas e 5 colunas com valores com valores aleatórios"
      ],
      "metadata": {
        "id": "trOPNx0QDaE6"
      }
    },
    {
      "cell_type": "code",
      "source": [
        "np.random.randint(10, 30 , size=((3, 5)))"
      ],
      "metadata": {
        "colab": {
          "base_uri": "https://localhost:8080/"
        },
        "id": "Vtqvq0apDqCx",
        "outputId": "e8a77438-9f91-4511-d788-86f10d1c8aed"
      },
      "execution_count": null,
      "outputs": [
        {
          "output_type": "execute_result",
          "data": {
            "text/plain": [
              "array([[29, 21, 24, 20, 11],\n",
              "       [12, 11, 18, 22, 29],\n",
              "       [14, 29, 10, 13, 17]])"
            ]
          },
          "metadata": {},
          "execution_count": 25
        }
      ]
    },
    {
      "cell_type": "code",
      "source": [],
      "metadata": {
        "id": "vvTfSI41EKiE"
      },
      "execution_count": null,
      "outputs": []
    },
    {
      "cell_type": "markdown",
      "source": [
        "criar um array que vá de 0 a 90, pulando de 4 em 4"
      ],
      "metadata": {
        "id": "9WJNAXygO4WV"
      }
    },
    {
      "cell_type": "code",
      "source": [
        "!pip install numpy\n",
        "import numpy as np"
      ],
      "metadata": {
        "colab": {
          "base_uri": "https://localhost:8080/"
        },
        "id": "CSlQwIeJPJOT",
        "outputId": "172c4475-c621-4881-8a58-1007cfc441ef"
      },
      "execution_count": null,
      "outputs": [
        {
          "output_type": "stream",
          "name": "stdout",
          "text": [
            "Requirement already satisfied: numpy in /usr/local/lib/python3.10/dist-packages (1.23.5)\n"
          ]
        }
      ]
    },
    {
      "cell_type": "code",
      "source": [
        "meu_array = np.arange(0, 91, 4)\n",
        "meu_array"
      ],
      "metadata": {
        "colab": {
          "base_uri": "https://localhost:8080/"
        },
        "id": "GltQDQS5PX0k",
        "outputId": "da8b4dbf-ae49-4621-8596-f8b8690f252f"
      },
      "execution_count": null,
      "outputs": [
        {
          "output_type": "execute_result",
          "data": {
            "text/plain": [
              "array([ 0,  4,  8, 12, 16, 20, 24, 28, 32, 36, 40, 44, 48, 52, 56, 60, 64,\n",
              "       68, 72, 76, 80, 84, 88])"
            ]
          },
          "metadata": {},
          "execution_count": 6
        }
      ]
    },
    {
      "cell_type": "markdown",
      "source": [
        "Crie array de 3 dimensões"
      ],
      "metadata": {
        "id": "wu0_66d402Sn"
      }
    },
    {
      "cell_type": "code",
      "source": [
        "!pip install numpy\n",
        "import numpy as np\n"
      ],
      "metadata": {
        "colab": {
          "base_uri": "https://localhost:8080/"
        },
        "id": "mh9xW5O161GC",
        "outputId": "2d952dc0-da69-4056-dadf-ac6bde2c323b"
      },
      "execution_count": null,
      "outputs": [
        {
          "output_type": "stream",
          "name": "stdout",
          "text": [
            "Requirement already satisfied: numpy in /usr/local/lib/python3.10/dist-packages (1.23.5)\n"
          ]
        }
      ]
    },
    {
      "cell_type": "code",
      "source": [
        "arr1_2d = np.array([[1, 2] , [3, 4]])\n",
        "arr2_2d = np.array([[5, 6] , [7, 8]])\n",
        "arr3_2d = np.array([[9, 2] , [3, 4]])\n",
        "\n",
        "arr_3d = np.array([arr1_2d, arr2_2d, arr3_2d])"
      ],
      "metadata": {
        "id": "0cuPAG2W7lJR"
      },
      "execution_count": null,
      "outputs": []
    },
    {
      "cell_type": "code",
      "source": [
        "arr1_2d"
      ],
      "metadata": {
        "colab": {
          "base_uri": "https://localhost:8080/"
        },
        "id": "oIGiogG29JK_",
        "outputId": "86a7fd1e-99dd-4929-a342-a2928077d13f"
      },
      "execution_count": null,
      "outputs": [
        {
          "output_type": "execute_result",
          "data": {
            "text/plain": [
              "array([[1, 2],\n",
              "       [3, 4]])"
            ]
          },
          "metadata": {},
          "execution_count": 23
        }
      ]
    },
    {
      "cell_type": "code",
      "source": [
        "arr_3d"
      ],
      "metadata": {
        "colab": {
          "base_uri": "https://localhost:8080/"
        },
        "id": "uxZtOXPD9PON",
        "outputId": "3e668816-f2bf-479a-bfb1-1f17b3f9f200"
      },
      "execution_count": null,
      "outputs": [
        {
          "output_type": "execute_result",
          "data": {
            "text/plain": [
              "array([[[1, 2],\n",
              "        [3, 4]],\n",
              "\n",
              "       [[5, 6],\n",
              "        [7, 8]],\n",
              "\n",
              "       [[9, 2],\n",
              "        [3, 4]]])"
            ]
          },
          "metadata": {},
          "execution_count": 24
        }
      ]
    },
    {
      "cell_type": "code",
      "source": [
        "arr1 = np.array([arr_3d, arr_3d])\n",
        "arr1"
      ],
      "metadata": {
        "colab": {
          "base_uri": "https://localhost:8080/"
        },
        "id": "uEaG-4G89U4P",
        "outputId": "dfdfc8e6-c9ee-42df-9667-3d1a97e6c47b"
      },
      "execution_count": null,
      "outputs": [
        {
          "output_type": "execute_result",
          "data": {
            "text/plain": [
              "array([[[[1, 2],\n",
              "         [3, 4]],\n",
              "\n",
              "        [[5, 6],\n",
              "         [7, 8]],\n",
              "\n",
              "        [[9, 2],\n",
              "         [3, 4]]],\n",
              "\n",
              "\n",
              "       [[[1, 2],\n",
              "         [3, 4]],\n",
              "\n",
              "        [[5, 6],\n",
              "         [7, 8]],\n",
              "\n",
              "        [[9, 2],\n",
              "         [3, 4]]]])"
            ]
          },
          "metadata": {},
          "execution_count": 38
        }
      ]
    },
    {
      "cell_type": "code",
      "source": [
        "arr1.flatten()"
      ],
      "metadata": {
        "colab": {
          "base_uri": "https://localhost:8080/"
        },
        "id": "N6DLedCdDpyL",
        "outputId": "8c1440e0-7006-4a68-b1a9-d1d4f1437d01"
      },
      "execution_count": null,
      "outputs": [
        {
          "output_type": "execute_result",
          "data": {
            "text/plain": [
              "array([1, 2, 3, 4, 5, 6, 7, 8, 9, 2, 3, 4, 1, 2, 3, 4, 5, 6, 7, 8, 9, 2,\n",
              "       3, 4])"
            ]
          },
          "metadata": {},
          "execution_count": 40
        }
      ]
    },
    {
      "cell_type": "code",
      "source": [
        " arr = np.zeros((3, 4, 2))"
      ],
      "metadata": {
        "id": "arQZFnSs-oou"
      },
      "execution_count": null,
      "outputs": []
    },
    {
      "cell_type": "code",
      "source": [
        "arr.shape"
      ],
      "metadata": {
        "colab": {
          "base_uri": "https://localhost:8080/"
        },
        "id": "CLJu1bQ8COQa",
        "outputId": "aecf9604-6426-42a1-e0a2-cf89f101e1e3"
      },
      "execution_count": null,
      "outputs": [
        {
          "output_type": "execute_result",
          "data": {
            "text/plain": [
              "(3, 4, 2)"
            ]
          },
          "metadata": {},
          "execution_count": 34
        }
      ]
    },
    {
      "cell_type": "code",
      "source": [
        "arr.flatten()"
      ],
      "metadata": {
        "colab": {
          "base_uri": "https://localhost:8080/"
        },
        "id": "M7CS2-L7CV_H",
        "outputId": "8078849e-3598-4d4c-9196-f1c22520c657"
      },
      "execution_count": null,
      "outputs": [
        {
          "output_type": "execute_result",
          "data": {
            "text/plain": [
              "array([0., 0., 0., 0., 0., 0., 0., 0., 0., 0., 0., 0., 0., 0., 0., 0., 0.,\n",
              "       0., 0., 0., 0., 0., 0., 0.])"
            ]
          },
          "metadata": {},
          "execution_count": 36
        }
      ]
    },
    {
      "cell_type": "code",
      "source": [
        "arr_3d"
      ],
      "metadata": {
        "colab": {
          "base_uri": "https://localhost:8080/"
        },
        "id": "XDpxrhA1EAdn",
        "outputId": "d7191c26-6762-4e16-c457-6b80f5b762ff"
      },
      "execution_count": null,
      "outputs": [
        {
          "output_type": "execute_result",
          "data": {
            "text/plain": [
              "array([[[1, 2],\n",
              "        [3, 4]],\n",
              "\n",
              "       [[5, 6],\n",
              "        [7, 8]],\n",
              "\n",
              "       [[9, 2],\n",
              "        [3, 4]]])"
            ]
          },
          "metadata": {},
          "execution_count": 41
        }
      ]
    },
    {
      "cell_type": "code",
      "source": [
        "arr_3d.reshape((4, 3))"
      ],
      "metadata": {
        "colab": {
          "base_uri": "https://localhost:8080/"
        },
        "id": "CtcCVpO_DVEU",
        "outputId": "e90378bf-c168-4feb-924b-2627f62e63d4"
      },
      "execution_count": null,
      "outputs": [
        {
          "output_type": "execute_result",
          "data": {
            "text/plain": [
              "array([[1, 2, 3],\n",
              "       [4, 5, 6],\n",
              "       [7, 8, 9],\n",
              "       [2, 3, 4]])"
            ]
          },
          "metadata": {},
          "execution_count": 43
        }
      ]
    },
    {
      "cell_type": "markdown",
      "source": [
        "1. Reduza o array (5,7) a apenas uma dimensão"
      ],
      "metadata": {
        "id": "aM6syTNhE5j6"
      }
    },
    {
      "cell_type": "code",
      "source": [
        "a57 = np.random.random((5,7))\n",
        "a57 = a57.flatten()\n",
        "a57"
      ],
      "metadata": {
        "colab": {
          "base_uri": "https://localhost:8080/"
        },
        "id": "y3U4Th0Xi2DO",
        "outputId": "1cab9339-f381-4d62-fb7e-85d5485204ce"
      },
      "execution_count": null,
      "outputs": [
        {
          "output_type": "execute_result",
          "data": {
            "text/plain": [
              "array([0.02031978, 0.71579601, 0.97601905, 0.65169054, 0.04133196,\n",
              "       0.09782021, 0.24036216, 0.54548142, 0.62255989, 0.34956891,\n",
              "       0.98839953, 0.56389583, 0.918842  , 0.3348564 , 0.93448058,\n",
              "       0.72211773, 0.02151136, 0.60298297, 0.02323369, 0.46915141,\n",
              "       0.22138288, 0.87344308, 0.35718168, 0.48735148, 0.63476334,\n",
              "       0.07165335, 0.57954929, 0.05146414, 0.0201429 , 0.97019155,\n",
              "       0.86667237, 0.12749723, 0.40517704, 0.35916771, 0.56688041])"
            ]
          },
          "metadata": {},
          "execution_count": 16
        }
      ]
    },
    {
      "cell_type": "markdown",
      "source": [
        "2. Considerando que você é uma organizadora de um jogo de bingo. Crie um array que irá representar a cartilha desses jogos de bingo. os números da suas cartelas variam entre 1 e 30, e você terá 10 participantes. Cada cartela terá 12 números (4, 3).\n",
        "Crie um array que represente esse jogo"
      ],
      "metadata": {
        "id": "J62DDWakjv5F"
      }
    },
    {
      "cell_type": "code",
      "source": [
        "bingo = np.random.randint(1 , 31, size=(10, 4, 3))\n",
        "bingo"
      ],
      "metadata": {
        "colab": {
          "base_uri": "https://localhost:8080/"
        },
        "id": "WMIfQ-cgj1Uj",
        "outputId": "6445fbc9-d7bb-4277-e850-a9a84cd26ce3"
      },
      "execution_count": null,
      "outputs": [
        {
          "output_type": "execute_result",
          "data": {
            "text/plain": [
              "array([[[22, 22, 29],\n",
              "        [ 8, 23, 17],\n",
              "        [15,  7, 13],\n",
              "        [ 4,  7,  1]],\n",
              "\n",
              "       [[19, 13, 22],\n",
              "        [17, 17, 20],\n",
              "        [29, 21, 18],\n",
              "        [19, 13, 12]],\n",
              "\n",
              "       [[ 6, 19, 11],\n",
              "        [ 6, 15, 28],\n",
              "        [17, 10,  8],\n",
              "        [ 5, 14, 10]],\n",
              "\n",
              "       [[ 4, 16,  5],\n",
              "        [16, 22, 29],\n",
              "        [26,  2, 12],\n",
              "        [ 4, 13, 12]],\n",
              "\n",
              "       [[ 4,  9,  5],\n",
              "        [27, 21, 19],\n",
              "        [19, 14, 20],\n",
              "        [14, 25, 17]],\n",
              "\n",
              "       [[22, 12,  5],\n",
              "        [15, 19, 25],\n",
              "        [ 1,  4, 28],\n",
              "        [ 5,  4, 24]],\n",
              "\n",
              "       [[ 3, 25, 15],\n",
              "        [ 1,  2,  9],\n",
              "        [23, 18, 13],\n",
              "        [26, 25, 16]],\n",
              "\n",
              "       [[ 3, 13, 29],\n",
              "        [ 8, 22, 11],\n",
              "        [ 2,  9, 21],\n",
              "        [ 9, 13,  3]],\n",
              "\n",
              "       [[14,  2, 17],\n",
              "        [21,  9,  6],\n",
              "        [ 4, 30,  5],\n",
              "        [ 8, 30, 10]],\n",
              "\n",
              "       [[28, 23, 28],\n",
              "        [12, 29,  7],\n",
              "        [15, 27,  6],\n",
              "        [ 9, 17, 26]]])"
            ]
          },
          "metadata": {},
          "execution_count": 17
        }
      ]
    },
    {
      "cell_type": "markdown",
      "source": [
        "3. Faça o reshape das suas cartelas para que haja 5 cartelas de 4 linhas e 6 colunas"
      ],
      "metadata": {
        "id": "3EyXncMylTV0"
      }
    },
    {
      "cell_type": "code",
      "source": [
        "bingo.reshape((5, 4, 6))\n"
      ],
      "metadata": {
        "colab": {
          "base_uri": "https://localhost:8080/"
        },
        "id": "sZmnAQBZlYBc",
        "outputId": "c6ab1a54-64f5-42ed-cacc-bba548d4e2fe"
      },
      "execution_count": null,
      "outputs": [
        {
          "output_type": "execute_result",
          "data": {
            "text/plain": [
              "array([[[14,  8, 24,  4, 12,  5],\n",
              "        [ 2,  5, 15, 15,  5, 27],\n",
              "        [10, 29,  2, 13, 22,  9],\n",
              "        [24, 25, 27, 16, 21, 11]],\n",
              "\n",
              "       [[30, 15, 19,  2,  5, 18],\n",
              "        [11, 19,  8, 19,  9, 23],\n",
              "        [19,  2, 28, 25, 28, 21],\n",
              "        [28, 28, 25, 28, 28,  1]],\n",
              "\n",
              "       [[30,  9, 26,  6,  6, 22],\n",
              "        [ 9,  2, 22,  2,  9, 14],\n",
              "        [26, 18,  8,  5, 26, 12],\n",
              "        [ 8,  2, 16, 26,  2, 16]],\n",
              "\n",
              "       [[ 9, 28, 20, 27, 18, 10],\n",
              "        [ 2,  6, 26,  4, 20,  3],\n",
              "        [11,  7, 13,  6, 14, 14],\n",
              "        [15, 24,  6, 21, 20,  8]],\n",
              "\n",
              "       [[ 5,  1, 19, 10, 22,  7],\n",
              "        [16,  9, 26,  4, 25, 22],\n",
              "        [23, 22, 18, 22, 15, 20],\n",
              "        [ 9, 20, 24, 28, 11, 10]]])"
            ]
          },
          "metadata": {},
          "execution_count": 22
        }
      ]
    },
    {
      "cell_type": "markdown",
      "source": [
        "Tipo de dados em um numpy array"
      ],
      "metadata": {
        "id": "Bg0DrYuhwe_I"
      }
    },
    {
      "cell_type": "code",
      "source": [
        "np.array([5.4,6.7,2.1]).dtype"
      ],
      "metadata": {
        "colab": {
          "base_uri": "https://localhost:8080/"
        },
        "id": "_-gFYfK1wka5",
        "outputId": "489aa289-f676-4f95-98e2-011f9363a809"
      },
      "execution_count": null,
      "outputs": [
        {
          "output_type": "execute_result",
          "data": {
            "text/plain": [
              "dtype('float64')"
            ]
          },
          "metadata": {},
          "execution_count": 23
        }
      ]
    },
    {
      "cell_type": "code",
      "source": [
        "np.array([5,6,2]).dtype"
      ],
      "metadata": {
        "colab": {
          "base_uri": "https://localhost:8080/"
        },
        "id": "-VKNZZfQxQCp",
        "outputId": "130d9817-2d27-4cd1-87b8-8d16ac4cd251"
      },
      "execution_count": null,
      "outputs": [
        {
          "output_type": "execute_result",
          "data": {
            "text/plain": [
              "dtype('int64')"
            ]
          },
          "metadata": {},
          "execution_count": 24
        }
      ]
    },
    {
      "cell_type": "code",
      "source": [
        "np.array([\"Hello\", \"womakerscode\"]).dtype"
      ],
      "metadata": {
        "colab": {
          "base_uri": "https://localhost:8080/"
        },
        "id": "RD3e7BcWxcBd",
        "outputId": "5ec1e314-8741-4100-94d2-a80e1c76137b"
      },
      "execution_count": null,
      "outputs": [
        {
          "output_type": "execute_result",
          "data": {
            "text/plain": [
              "dtype('<U12')"
            ]
          },
          "metadata": {},
          "execution_count": 27
        }
      ]
    },
    {
      "cell_type": "code",
      "source": [
        "x = np.array([3,4, 2.1])\n",
        "x[1]"
      ],
      "metadata": {
        "colab": {
          "base_uri": "https://localhost:8080/"
        },
        "id": "DV1xnmdMxtWK",
        "outputId": "c4cb1a26-14ef-406f-9961-d2a6084f4036"
      },
      "execution_count": null,
      "outputs": [
        {
          "output_type": "execute_result",
          "data": {
            "text/plain": [
              "4.0"
            ]
          },
          "metadata": {},
          "execution_count": 31
        }
      ]
    },
    {
      "cell_type": "code",
      "source": [
        "np.array([True, 3, False])"
      ],
      "metadata": {
        "colab": {
          "base_uri": "https://localhost:8080/"
        },
        "id": "mwmd7CXBy1Td",
        "outputId": "660865cf-4c8f-45a0-b5e1-7015704e86ca"
      },
      "execution_count": null,
      "outputs": [
        {
          "output_type": "execute_result",
          "data": {
            "text/plain": [
              "array([1, 3, 0])"
            ]
          },
          "metadata": {},
          "execution_count": 34
        }
      ]
    },
    {
      "cell_type": "code",
      "source": [
        "x.astype(np.int32)"
      ],
      "metadata": {
        "colab": {
          "base_uri": "https://localhost:8080/"
        },
        "id": "ikNBYES8y-35",
        "outputId": "2a6cf77d-5428-436f-dd10-53d74138a143"
      },
      "execution_count": null,
      "outputs": [
        {
          "output_type": "execute_result",
          "data": {
            "text/plain": [
              "array([3, 4, 2], dtype=int32)"
            ]
          },
          "metadata": {},
          "execution_count": 35
        }
      ]
    },
    {
      "cell_type": "code",
      "source": [
        "vf = np.array([True, 3, False])\n",
        "vf\n",
        "\n"
      ],
      "metadata": {
        "colab": {
          "base_uri": "https://localhost:8080/"
        },
        "id": "Rvp-wPzLze_J",
        "outputId": "40cb5cd0-3b89-4cb1-8315-16eefe323c77"
      },
      "execution_count": null,
      "outputs": [
        {
          "output_type": "execute_result",
          "data": {
            "text/plain": [
              "array([1, 3, 0])"
            ]
          },
          "metadata": {},
          "execution_count": 46
        }
      ]
    },
    {
      "cell_type": "code",
      "source": [
        "vf.astype(np.float32)"
      ],
      "metadata": {
        "colab": {
          "base_uri": "https://localhost:8080/"
        },
        "id": "aGM8Rv2zz4ND",
        "outputId": "ab350ced-1521-4bc2-81a9-25158da25377"
      },
      "execution_count": null,
      "outputs": [
        {
          "output_type": "execute_result",
          "data": {
            "text/plain": [
              "array([1., 3., 0.], dtype=float32)"
            ]
          },
          "metadata": {},
          "execution_count": 47
        }
      ]
    },
    {
      "cell_type": "code",
      "source": [
        "x.astype(np.int32)"
      ],
      "metadata": {
        "colab": {
          "base_uri": "https://localhost:8080/"
        },
        "id": "NCSvevA_1KoS",
        "outputId": "75b2929a-d6b0-472d-9c08-ceb37a388b07"
      },
      "execution_count": null,
      "outputs": [
        {
          "output_type": "execute_result",
          "data": {
            "text/plain": [
              "array([3, 4, 2], dtype=int32)"
            ]
          },
          "metadata": {},
          "execution_count": 48
        }
      ]
    },
    {
      "cell_type": "code",
      "source": [
        "import numpy as np\n"
      ],
      "metadata": {
        "id": "Y5dS-5htEMpG"
      },
      "execution_count": null,
      "outputs": []
    },
    {
      "cell_type": "code",
      "source": [
        "arr = np.array([2, 4, 6, 7, 8])\n",
        "arr[1]"
      ],
      "metadata": {
        "colab": {
          "base_uri": "https://localhost:8080/"
        },
        "id": "aHPReigxEb-k",
        "outputId": "42feb958-0be3-44f6-bc89-9a085f2d5348"
      },
      "execution_count": null,
      "outputs": [
        {
          "output_type": "execute_result",
          "data": {
            "text/plain": [
              "4"
            ]
          },
          "metadata": {},
          "execution_count": 4
        }
      ]
    },
    {
      "cell_type": "code",
      "source": [
        "arr[0]"
      ],
      "metadata": {
        "colab": {
          "base_uri": "https://localhost:8080/"
        },
        "id": "htqTx2yrEo11",
        "outputId": "3bf917c8-c0c9-4c3d-b8f2-4518d576ee84"
      },
      "execution_count": null,
      "outputs": [
        {
          "output_type": "execute_result",
          "data": {
            "text/plain": [
              "2"
            ]
          },
          "metadata": {},
          "execution_count": 5
        }
      ]
    },
    {
      "cell_type": "code",
      "source": [
        "!pip install numpy\n",
        "import numpy as np\n",
        "\n",
        "cartela_bingo = np.array([[16, 10,  3, 15],\n",
        "                            [14, 23, 17, 27],\n",
        "                            [ 6, 19,  3,  1],\n",
        "                            [10,  4, 18, 19]])\n",
        "cartela_bingo"
      ],
      "metadata": {
        "colab": {
          "base_uri": "https://localhost:8080/"
        },
        "id": "104dQKepT_xp",
        "outputId": "1f76dc83-2853-47ca-fecd-9e43945f0008"
      },
      "execution_count": null,
      "outputs": [
        {
          "output_type": "stream",
          "name": "stdout",
          "text": [
            "Requirement already satisfied: numpy in /usr/local/lib/python3.10/dist-packages (1.23.5)\n"
          ]
        },
        {
          "output_type": "execute_result",
          "data": {
            "text/plain": [
              "array([[16, 10,  3, 15],\n",
              "       [14, 23, 17, 27],\n",
              "       [ 6, 19,  3,  1],\n",
              "       [10,  4, 18, 19]])"
            ]
          },
          "metadata": {},
          "execution_count": 2
        }
      ]
    },
    {
      "cell_type": "code",
      "source": [
        "cartela_bingo[:,1].reshape((4,1))"
      ],
      "metadata": {
        "colab": {
          "base_uri": "https://localhost:8080/"
        },
        "id": "cUV-aML_UaMH",
        "outputId": "e14b9250-8b16-4e8f-97c6-b4d339cb42a1"
      },
      "execution_count": null,
      "outputs": [
        {
          "output_type": "execute_result",
          "data": {
            "text/plain": [
              "array([[10],\n",
              "       [23],\n",
              "       [19],\n",
              "       [ 4]])"
            ]
          },
          "metadata": {},
          "execution_count": 6
        }
      ]
    },
    {
      "cell_type": "code",
      "source": [
        "cartela_bingo[0]"
      ],
      "metadata": {
        "colab": {
          "base_uri": "https://localhost:8080/"
        },
        "id": "W3atDpqcUMQz",
        "outputId": "e30c5616-dbc8-42e0-85df-44ad20bc4645"
      },
      "execution_count": null,
      "outputs": [
        {
          "output_type": "execute_result",
          "data": {
            "text/plain": [
              "array([16, 10,  3, 15])"
            ]
          },
          "metadata": {},
          "execution_count": 7
        }
      ]
    },
    {
      "cell_type": "code",
      "source": [
        "np.sort(cartela_bingo)"
      ],
      "metadata": {
        "colab": {
          "base_uri": "https://localhost:8080/"
        },
        "id": "qPg8vw88a2lI",
        "outputId": "cf74c664-1d7b-4020-c4b9-003b088ebdfa"
      },
      "execution_count": null,
      "outputs": [
        {
          "output_type": "execute_result",
          "data": {
            "text/plain": [
              "array([[ 3, 10, 15, 16],\n",
              "       [14, 17, 23, 27],\n",
              "       [ 1,  3,  6, 19],\n",
              "       [ 4, 10, 18, 19]])"
            ]
          },
          "metadata": {},
          "execution_count": 8
        }
      ]
    },
    {
      "cell_type": "code",
      "source": [
        "np.sort(cartela_bingo, axis=0)"
      ],
      "metadata": {
        "colab": {
          "base_uri": "https://localhost:8080/"
        },
        "id": "TycU-rqba5oN",
        "outputId": "82ff2b6d-b4c2-4016-a2c7-825781c1601f"
      },
      "execution_count": null,
      "outputs": [
        {
          "output_type": "execute_result",
          "data": {
            "text/plain": [
              "array([[ 6,  4,  3,  1],\n",
              "       [10, 10,  3, 15],\n",
              "       [14, 19, 17, 19],\n",
              "       [16, 23, 18, 27]])"
            ]
          },
          "metadata": {},
          "execution_count": 10
        }
      ]
    },
    {
      "cell_type": "markdown",
      "source": [
        "1.1 Explorando Ecossistemas:\n",
        "Como bióloga marinha, me encontrei em uma expedição nas profundezas do Oceano Pacífico, onde estávamos estudando a biodiversidade e a saúde dos recifes de coral. O catálogo abaixo demonstra dados das espécies encontradas, considere a seguinte ordem de colunas:\n",
        "\n",
        "ID da espécie, quantidade de representantes encontrados, profundeza, tamanho médio da espécie\n",
        "\n",
        "Selecione a segunda coluna com a quantidade de espécies encontradas e adicione em um array as qtd_especies.\n",
        "De qtd_especies selecione apenas as primeiras 3 quantidades e print\n",
        "Print as 5 últimas quantidades de espécies\n",
        "Crie um array que contenha apenas os tamanhos das espécies e ordene por ordem crescente"
      ],
      "metadata": {
        "id": "g0Z-_xY3d380"
      }
    },
    {
      "cell_type": "code",
      "source": [
        "especies = np.array([[747,  89,  33,   5],\n",
        "                    [623, 123,  32,  13],\n",
        "                    [501,  22,  49,   2],\n",
        "                    [116, 101,  42,  10],\n",
        "                    [297,  56,  69,  22],\n",
        "                    [613,  64,  27,   7],\n",
        "                    [295,  84,  29,  14],\n",
        "                    [692, 105,  72,  16],\n",
        "                    [229, 103,  35,   5],\n",
        "                    [374, 124,  70,   1]])\n",
        "especies"
      ],
      "metadata": {
        "colab": {
          "base_uri": "https://localhost:8080/"
        },
        "id": "M14hUyYId9Sr",
        "outputId": "08d853db-6799-46d6-c867-9a1152842f04"
      },
      "execution_count": null,
      "outputs": [
        {
          "output_type": "execute_result",
          "data": {
            "text/plain": [
              "array([[747,  89,  33,   5],\n",
              "       [623, 123,  32,  13],\n",
              "       [501,  22,  49,   2],\n",
              "       [116, 101,  42,  10],\n",
              "       [297,  56,  69,  22],\n",
              "       [613,  64,  27,   7],\n",
              "       [295,  84,  29,  14],\n",
              "       [692, 105,  72,  16],\n",
              "       [229, 103,  35,   5],\n",
              "       [374, 124,  70,   1]])"
            ]
          },
          "metadata": {},
          "execution_count": 17
        }
      ]
    },
    {
      "cell_type": "code",
      "source": [
        "qtd_especies = especies[:,1]\n",
        "qtd_especies"
      ],
      "metadata": {
        "colab": {
          "base_uri": "https://localhost:8080/"
        },
        "id": "tqmMy7CoeGrh",
        "outputId": "b8b15cff-e6f2-47ad-ad46-4c210bd1af3b"
      },
      "execution_count": null,
      "outputs": [
        {
          "output_type": "execute_result",
          "data": {
            "text/plain": [
              "array([ 89, 123,  22, 101,  56,  64,  84, 105, 103, 124])"
            ]
          },
          "metadata": {},
          "execution_count": 24
        }
      ]
    },
    {
      "cell_type": "code",
      "source": [
        "print(qtd_especies[0:3])\n"
      ],
      "metadata": {
        "colab": {
          "base_uri": "https://localhost:8080/"
        },
        "id": "hS7cGYzsuFX5",
        "outputId": "a583df46-709a-4bc6-c849-9191f49a6cc6"
      },
      "execution_count": null,
      "outputs": [
        {
          "output_type": "stream",
          "name": "stdout",
          "text": [
            "[ 89 123  22]\n"
          ]
        }
      ]
    },
    {
      "cell_type": "code",
      "source": [
        "especies.shape"
      ],
      "metadata": {
        "colab": {
          "base_uri": "https://localhost:8080/"
        },
        "id": "6UG9Wi0DvRTS",
        "outputId": "29f90ce9-ea7f-4c00-b7fa-400dd07f878a"
      },
      "execution_count": null,
      "outputs": [
        {
          "output_type": "execute_result",
          "data": {
            "text/plain": [
              "(10, 4)"
            ]
          },
          "metadata": {},
          "execution_count": 33
        }
      ]
    },
    {
      "cell_type": "code",
      "source": [
        "qtd_especies[5:]"
      ],
      "metadata": {
        "colab": {
          "base_uri": "https://localhost:8080/"
        },
        "id": "uZe_Sn1NvVlh",
        "outputId": "29a4d9d7-6685-4e89-eb39-e16c5428cf9b"
      },
      "execution_count": null,
      "outputs": [
        {
          "output_type": "execute_result",
          "data": {
            "text/plain": [
              "array([ 64,  84, 105, 103, 124])"
            ]
          },
          "metadata": {},
          "execution_count": 35
        }
      ]
    },
    {
      "cell_type": "code",
      "source": [
        "especies[:,3]"
      ],
      "metadata": {
        "colab": {
          "base_uri": "https://localhost:8080/"
        },
        "id": "78t2UDSxvhnJ",
        "outputId": "1f6c43fd-68e6-4801-a26a-566081c7458e"
      },
      "execution_count": null,
      "outputs": [
        {
          "output_type": "execute_result",
          "data": {
            "text/plain": [
              "array([ 5, 13,  2, 10, 22,  7, 14, 16,  5,  1])"
            ]
          },
          "metadata": {},
          "execution_count": 36
        }
      ]
    },
    {
      "cell_type": "code",
      "source": [
        "np.sort(especies[:,3])"
      ],
      "metadata": {
        "colab": {
          "base_uri": "https://localhost:8080/"
        },
        "id": "Xw5TGktxyC3S",
        "outputId": "f209d93d-7489-42b6-a066-b010f94f2e90"
      },
      "execution_count": null,
      "outputs": [
        {
          "output_type": "execute_result",
          "data": {
            "text/plain": [
              "array([ 1,  2,  5,  5,  7, 10, 13, 14, 16, 22])"
            ]
          },
          "metadata": {},
          "execution_count": 37
        }
      ]
    },
    {
      "cell_type": "code",
      "source": [
        "np.sort(especies[:,3])[::-1]"
      ],
      "metadata": {
        "colab": {
          "base_uri": "https://localhost:8080/"
        },
        "id": "qufASkgUyMwT",
        "outputId": "fe13d0dc-3759-402e-f0bf-4d1ca630afae"
      },
      "execution_count": null,
      "outputs": [
        {
          "output_type": "execute_result",
          "data": {
            "text/plain": [
              "array([22, 16, 14, 13, 10,  7,  5,  5,  2,  1])"
            ]
          },
          "metadata": {},
          "execution_count": 38
        }
      ]
    },
    {
      "cell_type": "code",
      "source": [],
      "metadata": {
        "id": "suTGNYpWyhW8"
      },
      "execution_count": null,
      "outputs": []
    },
    {
      "cell_type": "markdown",
      "source": [
        "## 1.2 Ainda usando o Array de espécies marítimas.\n",
        "\n",
        "Usando um index booleano crie um array que contém os dados da maior espécie encontrada (considerando o seu tamanho), esse valor corresponde ao valor 22.\n",
        "\n",
        "Usando fency index faça um array que contém apenas dados da espécie com ID 297\n",
        "\n",
        "Usando np.where() faça um array com a linha com dados correspondentes a espécie com 105 representantes encontrados.\n",
        "\n",
        "Considere a profundeza em que o espécie foi encontrada substitua valores maiores que 60 com \"Profundo\""
      ],
      "metadata": {
        "id": "0gEIU_kH-kjE"
      }
    },
    {
      "cell_type": "code",
      "source": [
        "especies"
      ],
      "metadata": {
        "colab": {
          "base_uri": "https://localhost:8080/"
        },
        "id": "Yxvt6WyL-p6k",
        "outputId": "62b9f7b7-5279-4bf6-a262-d2a2a53e87af"
      },
      "execution_count": null,
      "outputs": [
        {
          "output_type": "execute_result",
          "data": {
            "text/plain": [
              "array([[747,  89,  33,   5],\n",
              "       [623, 123,  32,  13],\n",
              "       [501,  22,  49,   2],\n",
              "       [116, 101,  42,  10],\n",
              "       [297,  56,  69,  22],\n",
              "       [613,  64,  27,   7],\n",
              "       [295,  84,  29,  14],\n",
              "       [692, 105,  72,  16],\n",
              "       [229, 103,  35,   5],\n",
              "       [374, 124,  70,   1]])"
            ]
          },
          "metadata": {},
          "execution_count": 39
        }
      ]
    },
    {
      "cell_type": "code",
      "source": [
        "especies[:, 3] == 22"
      ],
      "metadata": {
        "colab": {
          "base_uri": "https://localhost:8080/"
        },
        "id": "uYYpvuR_ABIM",
        "outputId": "87f4b6d4-7af1-4dcf-afdc-b7216ea38350"
      },
      "execution_count": null,
      "outputs": [
        {
          "output_type": "execute_result",
          "data": {
            "text/plain": [
              "array([False, False, False, False,  True, False, False, False, False,\n",
              "       False])"
            ]
          },
          "metadata": {},
          "execution_count": 41
        }
      ]
    },
    {
      "cell_type": "code",
      "source": [
        "maior_especies = especies[especies[:, 3] == 22]\n",
        "maior_especies"
      ],
      "metadata": {
        "colab": {
          "base_uri": "https://localhost:8080/"
        },
        "id": "DY4R0IhPAbK_",
        "outputId": "5972d176-02e5-467f-e683-cd887e40af28"
      },
      "execution_count": null,
      "outputs": [
        {
          "output_type": "execute_result",
          "data": {
            "text/plain": [
              "array([[297,  56,  69,  22]])"
            ]
          },
          "metadata": {},
          "execution_count": 44
        }
      ]
    },
    {
      "cell_type": "code",
      "source": [
        "especies[:, 0] == 297"
      ],
      "metadata": {
        "colab": {
          "base_uri": "https://localhost:8080/"
        },
        "id": "jyJu_eHsBQNS",
        "outputId": "e87fe251-028f-49a1-c900-655b3216de8d"
      },
      "execution_count": null,
      "outputs": [
        {
          "output_type": "execute_result",
          "data": {
            "text/plain": [
              "array([False, False, False, False,  True, False, False, False, False,\n",
              "       False])"
            ]
          },
          "metadata": {},
          "execution_count": 45
        }
      ]
    },
    {
      "cell_type": "code",
      "source": [
        "mask_297 = especies[:, 0] == 297\n",
        "mask_297"
      ],
      "metadata": {
        "colab": {
          "base_uri": "https://localhost:8080/"
        },
        "id": "o1wncSDwBX51",
        "outputId": "a01f199d-45c4-47ad-d9e5-197c9cb9d3c7"
      },
      "execution_count": null,
      "outputs": [
        {
          "output_type": "execute_result",
          "data": {
            "text/plain": [
              "array([False, False, False, False,  True, False, False, False, False,\n",
              "       False])"
            ]
          },
          "metadata": {},
          "execution_count": 46
        }
      ]
    },
    {
      "cell_type": "code",
      "source": [
        "especies[mask_297]"
      ],
      "metadata": {
        "colab": {
          "base_uri": "https://localhost:8080/"
        },
        "id": "rcA6Lrt6B0jS",
        "outputId": "e36d131b-6a55-4818-ee6b-43d3a99ff27e"
      },
      "execution_count": null,
      "outputs": [
        {
          "output_type": "execute_result",
          "data": {
            "text/plain": [
              "array([[297,  56,  69,  22]])"
            ]
          },
          "metadata": {},
          "execution_count": 47
        }
      ]
    },
    {
      "cell_type": "code",
      "source": [
        "np.where(especies[:, 1] == 105)"
      ],
      "metadata": {
        "colab": {
          "base_uri": "https://localhost:8080/"
        },
        "id": "wl3kmLZHCU4z",
        "outputId": "9950c1f6-5f3b-43dc-da6c-e8b090d9abe7"
      },
      "execution_count": null,
      "outputs": [
        {
          "output_type": "execute_result",
          "data": {
            "text/plain": [
              "(array([7]),)"
            ]
          },
          "metadata": {},
          "execution_count": 48
        }
      ]
    },
    {
      "cell_type": "code",
      "source": [
        "especies[np.where(especies[:, 1] == 105)]"
      ],
      "metadata": {
        "colab": {
          "base_uri": "https://localhost:8080/"
        },
        "id": "ekjQ8RH5C21G",
        "outputId": "04374b12-e83f-4e8f-ff64-e00530c97870"
      },
      "execution_count": null,
      "outputs": [
        {
          "output_type": "execute_result",
          "data": {
            "text/plain": [
              "array([[692, 105,  72,  16]])"
            ]
          },
          "metadata": {},
          "execution_count": 50
        }
      ]
    },
    {
      "cell_type": "code",
      "source": [
        "especies[:, 2] > 60"
      ],
      "metadata": {
        "colab": {
          "base_uri": "https://localhost:8080/"
        },
        "id": "J8M3G5dbDVjG",
        "outputId": "d8367d34-8845-4630-aecd-eac64ab248bd"
      },
      "execution_count": null,
      "outputs": [
        {
          "output_type": "execute_result",
          "data": {
            "text/plain": [
              "array([False, False, False, False,  True, False, False,  True, False,\n",
              "        True])"
            ]
          },
          "metadata": {},
          "execution_count": 51
        }
      ]
    },
    {
      "cell_type": "code",
      "source": [
        "np.where(especies[:, 2] > 60, \"Profundo\", especies[:, 2] )"
      ],
      "metadata": {
        "colab": {
          "base_uri": "https://localhost:8080/"
        },
        "id": "47bunYXyDgo6",
        "outputId": "b452036e-5bf5-46ab-86cb-98b781398395"
      },
      "execution_count": null,
      "outputs": [
        {
          "output_type": "execute_result",
          "data": {
            "text/plain": [
              "array(['33', '32', '49', '42', 'Profundo', '27', '29', 'Profundo', '35',\n",
              "       'Profundo'], dtype='<U21')"
            ]
          },
          "metadata": {},
          "execution_count": 52
        }
      ]
    },
    {
      "cell_type": "code",
      "source": [
        "cartela_bingo"
      ],
      "metadata": {
        "colab": {
          "base_uri": "https://localhost:8080/"
        },
        "id": "yqDwa7sZO9Mi",
        "outputId": "b519e5fb-2471-4238-ca53-5bf5e3eb00ed"
      },
      "execution_count": null,
      "outputs": [
        {
          "output_type": "execute_result",
          "data": {
            "text/plain": [
              "array([[16, 10,  3, 15],\n",
              "       [14, 23, 17, 27],\n",
              "       [ 6, 19,  3,  1],\n",
              "       [10,  4, 18, 19]])"
            ]
          },
          "metadata": {},
          "execution_count": 53
        }
      ]
    },
    {
      "cell_type": "code",
      "source": [
        "cartela_bingo1 = cartela_bingo[:3]\n",
        "cartela_bingo1"
      ],
      "metadata": {
        "colab": {
          "base_uri": "https://localhost:8080/"
        },
        "id": "sZvmCO99O_Ol",
        "outputId": "d6fe6bc1-5746-4d9e-ef95-97f05323be82"
      },
      "execution_count": null,
      "outputs": [
        {
          "output_type": "execute_result",
          "data": {
            "text/plain": [
              "array([[16, 10,  3, 15],\n",
              "       [14, 23, 17, 27],\n",
              "       [ 6, 19,  3,  1]])"
            ]
          },
          "metadata": {},
          "execution_count": 55
        }
      ]
    },
    {
      "cell_type": "code",
      "source": [
        "cartela_bingo2 = cartela_bingo[-1:]\n",
        "cartela_bingo2"
      ],
      "metadata": {
        "colab": {
          "base_uri": "https://localhost:8080/"
        },
        "id": "DXDQ8ZhPPxc-",
        "outputId": "49a8c3a6-8dc3-43d1-f4c3-7570f4885a17"
      },
      "execution_count": null,
      "outputs": [
        {
          "output_type": "execute_result",
          "data": {
            "text/plain": [
              "array([[10,  4, 18, 19]])"
            ]
          },
          "metadata": {},
          "execution_count": 56
        }
      ]
    },
    {
      "cell_type": "code",
      "source": [
        "np.concatenate((cartela_bingo1,cartela_bingo2 ))"
      ],
      "metadata": {
        "colab": {
          "base_uri": "https://localhost:8080/"
        },
        "id": "oxaIgA0fP9at",
        "outputId": "6a90c580-0d63-4078-b01d-5bf0b2225e6c"
      },
      "execution_count": null,
      "outputs": [
        {
          "output_type": "execute_result",
          "data": {
            "text/plain": [
              "array([[16, 10,  3, 15],\n",
              "       [14, 23, 17, 27],\n",
              "       [ 6, 19,  3,  1],\n",
              "       [10,  4, 18, 19]])"
            ]
          },
          "metadata": {},
          "execution_count": 57
        }
      ]
    },
    {
      "cell_type": "code",
      "source": [
        "cartela_bingo == np.concatenate((cartela_bingo1,cartela_bingo2 ))"
      ],
      "metadata": {
        "colab": {
          "base_uri": "https://localhost:8080/"
        },
        "id": "InmerGzoQViB",
        "outputId": "2d846ec9-c85c-43ee-d868-437ee05e3fc6"
      },
      "execution_count": null,
      "outputs": [
        {
          "output_type": "execute_result",
          "data": {
            "text/plain": [
              "array([[ True,  True,  True,  True],\n",
              "       [ True,  True,  True,  True],\n",
              "       [ True,  True,  True,  True],\n",
              "       [ True,  True,  True,  True]])"
            ]
          },
          "metadata": {},
          "execution_count": 58
        }
      ]
    },
    {
      "cell_type": "code",
      "source": [
        "sala_espera = np.array([['5', '30', '1', 'Alice'],\n",
        "                        ['6', '29', '1', 'Bob'],\n",
        "                        ['7', '35', '3', 'Cristina'],\n",
        "                        ['8', '34', '3', 'Luiz']])\n",
        "sala_espera"
      ],
      "metadata": {
        "colab": {
          "base_uri": "https://localhost:8080/"
        },
        "id": "Z1oapYMFSjAZ",
        "outputId": "71d4c748-53c9-4d11-a390-a94cf06ab28f"
      },
      "execution_count": null,
      "outputs": [
        {
          "output_type": "execute_result",
          "data": {
            "text/plain": [
              "array([['5', '30', '1', 'Alice'],\n",
              "       ['6', '29', '1', 'Bob'],\n",
              "       ['7', '35', '3', 'Cristina'],\n",
              "       ['8', '34', '3', 'Luiz']], dtype='<U8')"
            ]
          },
          "metadata": {},
          "execution_count": 61
        }
      ]
    },
    {
      "cell_type": "code",
      "source": [
        "np.delete(sala_espera, 3, axis=0)"
      ],
      "metadata": {
        "colab": {
          "base_uri": "https://localhost:8080/"
        },
        "id": "vWCs6zIdVN9d",
        "outputId": "97e7e9c6-835d-4efb-9e9e-ecc0ab94178e"
      },
      "execution_count": null,
      "outputs": [
        {
          "output_type": "execute_result",
          "data": {
            "text/plain": [
              "array([['5', '30', '1', 'Alice'],\n",
              "       ['6', '29', '1', 'Bob'],\n",
              "       ['7', '35', '3', 'Cristina']], dtype='<U8')"
            ]
          },
          "metadata": {},
          "execution_count": 62
        }
      ]
    },
    {
      "cell_type": "markdown",
      "source": [
        "1.3 Ainda no conjunto 'especies'.\n",
        "Adicione mais 2 espécies ao array: [[204, 10, 40, 12], [392, 11, 81, 11]]\n",
        "Adicione mais uma coluna na no array original agora com o número de espécies encontradas com que indica se o animal enxerga ou não: [0, 1, 0, 0, 0, 0, 1, 0, 1, 1, 0]"
      ],
      "metadata": {
        "id": "qP9WI3fDV7OH"
      }
    },
    {
      "cell_type": "code",
      "source": [
        "especies"
      ],
      "metadata": {
        "colab": {
          "base_uri": "https://localhost:8080/"
        },
        "id": "ga5opusXV9Rb",
        "outputId": "c4b1e9e8-55a8-41a3-951a-de3b5f1d1091"
      },
      "execution_count": null,
      "outputs": [
        {
          "output_type": "execute_result",
          "data": {
            "text/plain": [
              "array([[747,  89,  33,   5],\n",
              "       [623, 123,  32,  13],\n",
              "       [501,  22,  49,   2],\n",
              "       [116, 101,  42,  10],\n",
              "       [297,  56,  69,  22],\n",
              "       [613,  64,  27,   7],\n",
              "       [295,  84,  29,  14],\n",
              "       [692, 105,  72,  16],\n",
              "       [229, 103,  35,   5],\n",
              "       [374, 124,  70,   1]])"
            ]
          },
          "metadata": {},
          "execution_count": 63
        }
      ]
    },
    {
      "cell_type": "code",
      "source": [
        "novas_especies = np.array([[204, 10, 40, 12], [392, 11, 81, 11]])\n",
        "novas_especies"
      ],
      "metadata": {
        "colab": {
          "base_uri": "https://localhost:8080/"
        },
        "id": "-O62vr5oWWbX",
        "outputId": "8ec36296-c281-4ce4-c80e-da9a82b94b4e"
      },
      "execution_count": null,
      "outputs": [
        {
          "output_type": "execute_result",
          "data": {
            "text/plain": [
              "array([[204,  10,  40,  12],\n",
              "       [392,  11,  81,  11]])"
            ]
          },
          "metadata": {},
          "execution_count": 66
        }
      ]
    },
    {
      "cell_type": "code",
      "source": [
        "np.concatenate((especies, novas_especies))"
      ],
      "metadata": {
        "colab": {
          "base_uri": "https://localhost:8080/"
        },
        "id": "B9AIirnLWict",
        "outputId": "f7073218-95db-4c70-b5c8-edb81368077e"
      },
      "execution_count": null,
      "outputs": [
        {
          "output_type": "execute_result",
          "data": {
            "text/plain": [
              "array([[747,  89,  33,   5],\n",
              "       [623, 123,  32,  13],\n",
              "       [501,  22,  49,   2],\n",
              "       [116, 101,  42,  10],\n",
              "       [297,  56,  69,  22],\n",
              "       [613,  64,  27,   7],\n",
              "       [295,  84,  29,  14],\n",
              "       [692, 105,  72,  16],\n",
              "       [229, 103,  35,   5],\n",
              "       [374, 124,  70,   1],\n",
              "       [204,  10,  40,  12],\n",
              "       [392,  11,  81,  11]])"
            ]
          },
          "metadata": {},
          "execution_count": 67
        }
      ]
    },
    {
      "cell_type": "code",
      "source": [
        "!pip install numpy\n",
        "\n",
        "import numpy as np\n"
      ],
      "metadata": {
        "colab": {
          "base_uri": "https://localhost:8080/"
        },
        "id": "h6Bnu8hRU8Dx",
        "outputId": "435d1555-463d-48ee-d935-13636e2286c7"
      },
      "execution_count": null,
      "outputs": [
        {
          "output_type": "stream",
          "name": "stdout",
          "text": [
            "Requirement already satisfied: numpy in /usr/local/lib/python3.10/dist-packages (1.23.5)\n"
          ]
        }
      ]
    },
    {
      "cell_type": "code",
      "source": [
        "np.concatenate((especies, np.array([0, 1, 0, 0, 0, 0, 1, 0, 1, 1])), axis=1)\n"
      ],
      "metadata": {
        "colab": {
          "base_uri": "https://localhost:8080/",
          "height": 175
        },
        "id": "NIhGckOuX1Bh",
        "outputId": "3963fb9e-c2c7-4e7c-8849-8677c3b79354"
      },
      "execution_count": null,
      "outputs": [
        {
          "output_type": "error",
          "ename": "NameError",
          "evalue": "name 'especies' is not defined",
          "traceback": [
            "\u001b[0;31m---------------------------------------------------------------------------\u001b[0m",
            "\u001b[0;31mNameError\u001b[0m                                 Traceback (most recent call last)",
            "\u001b[0;32m<ipython-input-20-e4ffeda2eedd>\u001b[0m in \u001b[0;36m<cell line: 1>\u001b[0;34m()\u001b[0m\n\u001b[0;32m----> 1\u001b[0;31m \u001b[0mnp\u001b[0m\u001b[0;34m.\u001b[0m\u001b[0mconcatenate\u001b[0m\u001b[0;34m(\u001b[0m\u001b[0;34m(\u001b[0m\u001b[0mespecies\u001b[0m\u001b[0;34m,\u001b[0m \u001b[0mnp\u001b[0m\u001b[0;34m.\u001b[0m\u001b[0marray\u001b[0m\u001b[0;34m(\u001b[0m\u001b[0;34m[\u001b[0m\u001b[0;36m0\u001b[0m\u001b[0;34m,\u001b[0m \u001b[0;36m1\u001b[0m\u001b[0;34m,\u001b[0m \u001b[0;36m0\u001b[0m\u001b[0;34m,\u001b[0m \u001b[0;36m0\u001b[0m\u001b[0;34m,\u001b[0m \u001b[0;36m0\u001b[0m\u001b[0;34m,\u001b[0m \u001b[0;36m0\u001b[0m\u001b[0;34m,\u001b[0m \u001b[0;36m1\u001b[0m\u001b[0;34m,\u001b[0m \u001b[0;36m0\u001b[0m\u001b[0;34m,\u001b[0m \u001b[0;36m1\u001b[0m\u001b[0;34m,\u001b[0m \u001b[0;36m1\u001b[0m\u001b[0;34m]\u001b[0m\u001b[0;34m)\u001b[0m\u001b[0;34m)\u001b[0m\u001b[0;34m,\u001b[0m \u001b[0maxis\u001b[0m\u001b[0;34m=\u001b[0m\u001b[0;36m1\u001b[0m\u001b[0;34m)\u001b[0m\u001b[0;34m\u001b[0m\u001b[0;34m\u001b[0m\u001b[0m\n\u001b[0m",
            "\u001b[0;31mNameError\u001b[0m: name 'especies' is not defined"
          ]
        }
      ]
    },
    {
      "cell_type": "code",
      "source": [
        "especies.shape\n"
      ],
      "metadata": {
        "colab": {
          "base_uri": "https://localhost:8080/"
        },
        "id": "oGDOQTB9YKew",
        "outputId": "6c5e17c3-9da2-4dfd-f364-99aa7b0b4830"
      },
      "execution_count": null,
      "outputs": [
        {
          "output_type": "execute_result",
          "data": {
            "text/plain": [
              "(10, 4)"
            ]
          },
          "metadata": {},
          "execution_count": 69
        }
      ]
    },
    {
      "cell_type": "code",
      "source": [
        "ver = np.array([0, 1, 0, 0, 0, 0, 1, 0, 1, 1]).reshape((10, 1))\n",
        "ver"
      ],
      "metadata": {
        "colab": {
          "base_uri": "https://localhost:8080/"
        },
        "id": "dYEWkhdRYUl8",
        "outputId": "1e245387-2796-44e4-cf7e-a9e4579a778c"
      },
      "execution_count": null,
      "outputs": [
        {
          "output_type": "execute_result",
          "data": {
            "text/plain": [
              "array([[0],\n",
              "       [1],\n",
              "       [0],\n",
              "       [0],\n",
              "       [0],\n",
              "       [0],\n",
              "       [1],\n",
              "       [0],\n",
              "       [1],\n",
              "       [1]])"
            ]
          },
          "metadata": {},
          "execution_count": 70
        }
      ]
    },
    {
      "cell_type": "code",
      "source": [
        "np.concatenate((especies, ver), axis=1)"
      ],
      "metadata": {
        "colab": {
          "base_uri": "https://localhost:8080/"
        },
        "id": "VfG_9SxYYxf6",
        "outputId": "ec2a87a2-0fe6-4351-9afb-e7666377e5e2"
      },
      "execution_count": null,
      "outputs": [
        {
          "output_type": "execute_result",
          "data": {
            "text/plain": [
              "array([[747,  89,  33,   5,   0],\n",
              "       [623, 123,  32,  13,   1],\n",
              "       [501,  22,  49,   2,   0],\n",
              "       [116, 101,  42,  10,   0],\n",
              "       [297,  56,  69,  22,   0],\n",
              "       [613,  64,  27,   7,   0],\n",
              "       [295,  84,  29,  14,   1],\n",
              "       [692, 105,  72,  16,   0],\n",
              "       [229, 103,  35,   5,   1],\n",
              "       [374, 124,  70,   1,   1]])"
            ]
          },
          "metadata": {},
          "execution_count": 72
        }
      ]
    }
  ]
}